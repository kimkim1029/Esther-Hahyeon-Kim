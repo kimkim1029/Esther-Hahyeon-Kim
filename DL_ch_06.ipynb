{
  "nbformat": 4,
  "nbformat_minor": 0,
  "metadata": {
    "colab": {
      "name": "DL_ch.06.ipynb",
      "provenance": [],
      "authorship_tag": "ABX9TyPXPEFjdMvkUiG66WRGUmdm",
      "include_colab_link": true
    },
    "kernelspec": {
      "name": "python3",
      "display_name": "Python 3"
    }
  },
  "cells": [
    {
      "cell_type": "markdown",
      "metadata": {
        "id": "view-in-github",
        "colab_type": "text"
      },
      "source": [
        "<a href=\"https://colab.research.google.com/github/kimkim1029/Esther-Hahyeon-Kim/blob/main/DL_ch_06.ipynb\" target=\"_parent\"><img src=\"https://colab.research.google.com/assets/colab-badge.svg\" alt=\"Open In Colab\"/></a>"
      ]
    },
    {
      "cell_type": "code",
      "metadata": {
        "id": "ZUU4xmLLlFaM"
      },
      "source": [
        "# 2개의 층을 연결합니다 - 다층 신경망 \n",
        "# 선형회귀, 로지스틱 회귀, 단일층 신경망, 경사하강법, 과대적합, 과소적합 \n",
        "\n",
        "# 06-1. 신경망 알고리즘을 벡터화하여 한 번에 전체 샘플을 사용합니다. \n",
        "# 벡터화된 연산은 알고리즘의 성능을 올립니다. - 넘파이, 머신러닝, 딥러닝 패키지 "
      ],
      "execution_count": null,
      "outputs": []
    }
  ]
}