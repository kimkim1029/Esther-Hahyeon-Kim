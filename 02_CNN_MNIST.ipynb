{
 "cells": [
  {
   "cell_type": "code",
   "execution_count": 45,
   "metadata": {
    "scrolled": true
   },
   "outputs": [],
   "source": [
    "# Load Dataset \n",
    "import pandas as pd\n",
    "train_dataset = pd.read_csv(\"data_m/mnist_train.csv\")\n",
    "test_dataset = pd.read_csv(\"data_m/mnist_test.csv\")"
   ]
  },
  {
   "cell_type": "code",
   "execution_count": 46,
   "metadata": {},
   "outputs": [
    {
     "data": {
      "text/html": [
       "<div>\n",
       "<style scoped>\n",
       "    .dataframe tbody tr th:only-of-type {\n",
       "        vertical-align: middle;\n",
       "    }\n",
       "\n",
       "    .dataframe tbody tr th {\n",
       "        vertical-align: top;\n",
       "    }\n",
       "\n",
       "    .dataframe thead th {\n",
       "        text-align: right;\n",
       "    }\n",
       "</style>\n",
       "<table border=\"1\" class=\"dataframe\">\n",
       "  <thead>\n",
       "    <tr style=\"text-align: right;\">\n",
       "      <th></th>\n",
       "      <th>label</th>\n",
       "      <th>1x1</th>\n",
       "      <th>1x2</th>\n",
       "      <th>1x3</th>\n",
       "      <th>1x4</th>\n",
       "      <th>1x5</th>\n",
       "      <th>1x6</th>\n",
       "      <th>1x7</th>\n",
       "      <th>1x8</th>\n",
       "      <th>1x9</th>\n",
       "      <th>...</th>\n",
       "      <th>28x19</th>\n",
       "      <th>28x20</th>\n",
       "      <th>28x21</th>\n",
       "      <th>28x22</th>\n",
       "      <th>28x23</th>\n",
       "      <th>28x24</th>\n",
       "      <th>28x25</th>\n",
       "      <th>28x26</th>\n",
       "      <th>28x27</th>\n",
       "      <th>28x28</th>\n",
       "    </tr>\n",
       "  </thead>\n",
       "  <tbody>\n",
       "    <tr>\n",
       "      <th>0</th>\n",
       "      <td>5</td>\n",
       "      <td>0</td>\n",
       "      <td>0</td>\n",
       "      <td>0</td>\n",
       "      <td>0</td>\n",
       "      <td>0</td>\n",
       "      <td>0</td>\n",
       "      <td>0</td>\n",
       "      <td>0</td>\n",
       "      <td>0</td>\n",
       "      <td>...</td>\n",
       "      <td>0</td>\n",
       "      <td>0</td>\n",
       "      <td>0</td>\n",
       "      <td>0</td>\n",
       "      <td>0</td>\n",
       "      <td>0</td>\n",
       "      <td>0</td>\n",
       "      <td>0</td>\n",
       "      <td>0</td>\n",
       "      <td>0</td>\n",
       "    </tr>\n",
       "    <tr>\n",
       "      <th>1</th>\n",
       "      <td>0</td>\n",
       "      <td>0</td>\n",
       "      <td>0</td>\n",
       "      <td>0</td>\n",
       "      <td>0</td>\n",
       "      <td>0</td>\n",
       "      <td>0</td>\n",
       "      <td>0</td>\n",
       "      <td>0</td>\n",
       "      <td>0</td>\n",
       "      <td>...</td>\n",
       "      <td>0</td>\n",
       "      <td>0</td>\n",
       "      <td>0</td>\n",
       "      <td>0</td>\n",
       "      <td>0</td>\n",
       "      <td>0</td>\n",
       "      <td>0</td>\n",
       "      <td>0</td>\n",
       "      <td>0</td>\n",
       "      <td>0</td>\n",
       "    </tr>\n",
       "    <tr>\n",
       "      <th>2</th>\n",
       "      <td>4</td>\n",
       "      <td>0</td>\n",
       "      <td>0</td>\n",
       "      <td>0</td>\n",
       "      <td>0</td>\n",
       "      <td>0</td>\n",
       "      <td>0</td>\n",
       "      <td>0</td>\n",
       "      <td>0</td>\n",
       "      <td>0</td>\n",
       "      <td>...</td>\n",
       "      <td>0</td>\n",
       "      <td>0</td>\n",
       "      <td>0</td>\n",
       "      <td>0</td>\n",
       "      <td>0</td>\n",
       "      <td>0</td>\n",
       "      <td>0</td>\n",
       "      <td>0</td>\n",
       "      <td>0</td>\n",
       "      <td>0</td>\n",
       "    </tr>\n",
       "    <tr>\n",
       "      <th>3</th>\n",
       "      <td>1</td>\n",
       "      <td>0</td>\n",
       "      <td>0</td>\n",
       "      <td>0</td>\n",
       "      <td>0</td>\n",
       "      <td>0</td>\n",
       "      <td>0</td>\n",
       "      <td>0</td>\n",
       "      <td>0</td>\n",
       "      <td>0</td>\n",
       "      <td>...</td>\n",
       "      <td>0</td>\n",
       "      <td>0</td>\n",
       "      <td>0</td>\n",
       "      <td>0</td>\n",
       "      <td>0</td>\n",
       "      <td>0</td>\n",
       "      <td>0</td>\n",
       "      <td>0</td>\n",
       "      <td>0</td>\n",
       "      <td>0</td>\n",
       "    </tr>\n",
       "    <tr>\n",
       "      <th>4</th>\n",
       "      <td>9</td>\n",
       "      <td>0</td>\n",
       "      <td>0</td>\n",
       "      <td>0</td>\n",
       "      <td>0</td>\n",
       "      <td>0</td>\n",
       "      <td>0</td>\n",
       "      <td>0</td>\n",
       "      <td>0</td>\n",
       "      <td>0</td>\n",
       "      <td>...</td>\n",
       "      <td>0</td>\n",
       "      <td>0</td>\n",
       "      <td>0</td>\n",
       "      <td>0</td>\n",
       "      <td>0</td>\n",
       "      <td>0</td>\n",
       "      <td>0</td>\n",
       "      <td>0</td>\n",
       "      <td>0</td>\n",
       "      <td>0</td>\n",
       "    </tr>\n",
       "  </tbody>\n",
       "</table>\n",
       "<p>5 rows × 785 columns</p>\n",
       "</div>"
      ],
      "text/plain": [
       "   label  1x1  1x2  1x3  1x4  1x5  1x6  1x7  1x8  1x9  ...  28x19  28x20  \\\n",
       "0      5    0    0    0    0    0    0    0    0    0  ...      0      0   \n",
       "1      0    0    0    0    0    0    0    0    0    0  ...      0      0   \n",
       "2      4    0    0    0    0    0    0    0    0    0  ...      0      0   \n",
       "3      1    0    0    0    0    0    0    0    0    0  ...      0      0   \n",
       "4      9    0    0    0    0    0    0    0    0    0  ...      0      0   \n",
       "\n",
       "   28x21  28x22  28x23  28x24  28x25  28x26  28x27  28x28  \n",
       "0      0      0      0      0      0      0      0      0  \n",
       "1      0      0      0      0      0      0      0      0  \n",
       "2      0      0      0      0      0      0      0      0  \n",
       "3      0      0      0      0      0      0      0      0  \n",
       "4      0      0      0      0      0      0      0      0  \n",
       "\n",
       "[5 rows x 785 columns]"
      ]
     },
     "execution_count": 46,
     "metadata": {},
     "output_type": "execute_result"
    }
   ],
   "source": [
    "# Check Train Set \n",
    "train_dataset.head()"
   ]
  },
  {
   "cell_type": "code",
   "execution_count": 47,
   "metadata": {},
   "outputs": [
    {
     "data": {
      "text/html": [
       "<div>\n",
       "<style scoped>\n",
       "    .dataframe tbody tr th:only-of-type {\n",
       "        vertical-align: middle;\n",
       "    }\n",
       "\n",
       "    .dataframe tbody tr th {\n",
       "        vertical-align: top;\n",
       "    }\n",
       "\n",
       "    .dataframe thead th {\n",
       "        text-align: right;\n",
       "    }\n",
       "</style>\n",
       "<table border=\"1\" class=\"dataframe\">\n",
       "  <thead>\n",
       "    <tr style=\"text-align: right;\">\n",
       "      <th></th>\n",
       "      <th>1x1</th>\n",
       "      <th>1x2</th>\n",
       "      <th>1x3</th>\n",
       "      <th>1x4</th>\n",
       "      <th>1x5</th>\n",
       "      <th>1x6</th>\n",
       "      <th>1x7</th>\n",
       "      <th>1x8</th>\n",
       "      <th>1x9</th>\n",
       "      <th>1x10</th>\n",
       "      <th>...</th>\n",
       "      <th>28x19</th>\n",
       "      <th>28x20</th>\n",
       "      <th>28x21</th>\n",
       "      <th>28x22</th>\n",
       "      <th>28x23</th>\n",
       "      <th>28x24</th>\n",
       "      <th>28x25</th>\n",
       "      <th>28x26</th>\n",
       "      <th>28x27</th>\n",
       "      <th>28x28</th>\n",
       "    </tr>\n",
       "  </thead>\n",
       "  <tbody>\n",
       "    <tr>\n",
       "      <th>0</th>\n",
       "      <td>0</td>\n",
       "      <td>0</td>\n",
       "      <td>0</td>\n",
       "      <td>0</td>\n",
       "      <td>0</td>\n",
       "      <td>0</td>\n",
       "      <td>0</td>\n",
       "      <td>0</td>\n",
       "      <td>0</td>\n",
       "      <td>0</td>\n",
       "      <td>...</td>\n",
       "      <td>0</td>\n",
       "      <td>0</td>\n",
       "      <td>0</td>\n",
       "      <td>0</td>\n",
       "      <td>0</td>\n",
       "      <td>0</td>\n",
       "      <td>0</td>\n",
       "      <td>0</td>\n",
       "      <td>0</td>\n",
       "      <td>0</td>\n",
       "    </tr>\n",
       "    <tr>\n",
       "      <th>1</th>\n",
       "      <td>0</td>\n",
       "      <td>0</td>\n",
       "      <td>0</td>\n",
       "      <td>0</td>\n",
       "      <td>0</td>\n",
       "      <td>0</td>\n",
       "      <td>0</td>\n",
       "      <td>0</td>\n",
       "      <td>0</td>\n",
       "      <td>0</td>\n",
       "      <td>...</td>\n",
       "      <td>0</td>\n",
       "      <td>0</td>\n",
       "      <td>0</td>\n",
       "      <td>0</td>\n",
       "      <td>0</td>\n",
       "      <td>0</td>\n",
       "      <td>0</td>\n",
       "      <td>0</td>\n",
       "      <td>0</td>\n",
       "      <td>0</td>\n",
       "    </tr>\n",
       "    <tr>\n",
       "      <th>2</th>\n",
       "      <td>0</td>\n",
       "      <td>0</td>\n",
       "      <td>0</td>\n",
       "      <td>0</td>\n",
       "      <td>0</td>\n",
       "      <td>0</td>\n",
       "      <td>0</td>\n",
       "      <td>0</td>\n",
       "      <td>0</td>\n",
       "      <td>0</td>\n",
       "      <td>...</td>\n",
       "      <td>0</td>\n",
       "      <td>0</td>\n",
       "      <td>0</td>\n",
       "      <td>0</td>\n",
       "      <td>0</td>\n",
       "      <td>0</td>\n",
       "      <td>0</td>\n",
       "      <td>0</td>\n",
       "      <td>0</td>\n",
       "      <td>0</td>\n",
       "    </tr>\n",
       "    <tr>\n",
       "      <th>3</th>\n",
       "      <td>0</td>\n",
       "      <td>0</td>\n",
       "      <td>0</td>\n",
       "      <td>0</td>\n",
       "      <td>0</td>\n",
       "      <td>0</td>\n",
       "      <td>0</td>\n",
       "      <td>0</td>\n",
       "      <td>0</td>\n",
       "      <td>0</td>\n",
       "      <td>...</td>\n",
       "      <td>0</td>\n",
       "      <td>0</td>\n",
       "      <td>0</td>\n",
       "      <td>0</td>\n",
       "      <td>0</td>\n",
       "      <td>0</td>\n",
       "      <td>0</td>\n",
       "      <td>0</td>\n",
       "      <td>0</td>\n",
       "      <td>0</td>\n",
       "    </tr>\n",
       "    <tr>\n",
       "      <th>4</th>\n",
       "      <td>0</td>\n",
       "      <td>0</td>\n",
       "      <td>0</td>\n",
       "      <td>0</td>\n",
       "      <td>0</td>\n",
       "      <td>0</td>\n",
       "      <td>0</td>\n",
       "      <td>0</td>\n",
       "      <td>0</td>\n",
       "      <td>0</td>\n",
       "      <td>...</td>\n",
       "      <td>0</td>\n",
       "      <td>0</td>\n",
       "      <td>0</td>\n",
       "      <td>0</td>\n",
       "      <td>0</td>\n",
       "      <td>0</td>\n",
       "      <td>0</td>\n",
       "      <td>0</td>\n",
       "      <td>0</td>\n",
       "      <td>0</td>\n",
       "    </tr>\n",
       "  </tbody>\n",
       "</table>\n",
       "<p>5 rows × 784 columns</p>\n",
       "</div>"
      ],
      "text/plain": [
       "   1x1  1x2  1x3  1x4  1x5  1x6  1x7  1x8  1x9  1x10  ...  28x19  28x20  \\\n",
       "0    0    0    0    0    0    0    0    0    0     0  ...      0      0   \n",
       "1    0    0    0    0    0    0    0    0    0     0  ...      0      0   \n",
       "2    0    0    0    0    0    0    0    0    0     0  ...      0      0   \n",
       "3    0    0    0    0    0    0    0    0    0     0  ...      0      0   \n",
       "4    0    0    0    0    0    0    0    0    0     0  ...      0      0   \n",
       "\n",
       "   28x21  28x22  28x23  28x24  28x25  28x26  28x27  28x28  \n",
       "0      0      0      0      0      0      0      0      0  \n",
       "1      0      0      0      0      0      0      0      0  \n",
       "2      0      0      0      0      0      0      0      0  \n",
       "3      0      0      0      0      0      0      0      0  \n",
       "4      0      0      0      0      0      0      0      0  \n",
       "\n",
       "[5 rows x 784 columns]"
      ]
     },
     "execution_count": 47,
     "metadata": {},
     "output_type": "execute_result"
    }
   ],
   "source": [
    "# Check Test Set \n",
    "test_dataset = test_dataset.iloc[:, 1:] # labe of test dataset will be removed. \n",
    "test_dataset.head()"
   ]
  },
  {
   "cell_type": "code",
   "execution_count": 48,
   "metadata": {},
   "outputs": [],
   "source": [
    "# Split to Image & Label\n",
    "train_images = (train_dataset.iloc[:,1:].values).astype(\"float32\")\n",
    "train_labels = train_dataset[\"label\"].values\n",
    "test_images = (test_dataset.values).astype(\"float32\")"
   ]
  },
  {
   "cell_type": "code",
   "execution_count": 49,
   "metadata": {},
   "outputs": [
    {
     "data": {
      "text/plain": [
       "array([[0., 0., 0., ..., 0., 0., 0.],\n",
       "       [0., 0., 0., ..., 0., 0., 0.],\n",
       "       [0., 0., 0., ..., 0., 0., 0.],\n",
       "       ...,\n",
       "       [0., 0., 0., ..., 0., 0., 0.],\n",
       "       [0., 0., 0., ..., 0., 0., 0.],\n",
       "       [0., 0., 0., ..., 0., 0., 0.]], dtype=float32)"
      ]
     },
     "execution_count": 49,
     "metadata": {},
     "output_type": "execute_result"
    }
   ],
   "source": [
    "# Check Train Data's Image\n",
    "train_images"
   ]
  },
  {
   "cell_type": "code",
   "execution_count": 51,
   "metadata": {},
   "outputs": [
    {
     "data": {
      "text/plain": [
       "array([5, 0, 4, ..., 5, 6, 8], dtype=int64)"
      ]
     },
     "execution_count": 51,
     "metadata": {},
     "output_type": "execute_result"
    }
   ],
   "source": [
    "# Check Train Data's Label \n",
    "train_labels "
   ]
  },
  {
   "cell_type": "code",
   "execution_count": 53,
   "metadata": {},
   "outputs": [
    {
     "data": {
      "text/plain": [
       "array([[0., 0., 0., ..., 0., 0., 0.],\n",
       "       [0., 0., 0., ..., 0., 0., 0.],\n",
       "       [0., 0., 0., ..., 0., 0., 0.],\n",
       "       ...,\n",
       "       [0., 0., 0., ..., 0., 0., 0.],\n",
       "       [0., 0., 0., ..., 0., 0., 0.],\n",
       "       [0., 0., 0., ..., 0., 0., 0.]], dtype=float32)"
      ]
     },
     "execution_count": 53,
     "metadata": {},
     "output_type": "execute_result"
    }
   ],
   "source": [
    "# Check Test Data's Image \n",
    "test_images"
   ]
  },
  {
   "cell_type": "code",
   "execution_count": 54,
   "metadata": {},
   "outputs": [],
   "source": [
    "# Split into Train, Valid Dataset \n",
    "from sklearn.model_selection import train_test_split\n",
    "train_images, valid_images, train_labels, valid_labels = train_test_split(train_images,\n",
    "                                                                         train_labels, \n",
    "                                                                         stratify = train_labels, \n",
    "                                                                         random_state = 42, \n",
    "                                                                         test_size = 0.2)"
   ]
  },
  {
   "cell_type": "code",
   "execution_count": 55,
   "metadata": {},
   "outputs": [
    {
     "name": "stdout",
     "output_type": "stream",
     "text": [
      "The Shape of Train Images:  (48000, 784)\n",
      "The Shape of Valid Images:  (12000, 784)\n",
      "The Shape of Test Images:  (10000, 784)\n"
     ]
    }
   ],
   "source": [
    "# Check Train, Valid, Test Image's Shape \n",
    "print(\"The Shape of Train Images: \", train_images.shape)\n",
    "print(\"The Shape of Valid Images: \", valid_images.shape)\n",
    "print(\"The Shape of Test Images: \", test_images.shape)\n"
   ]
  },
  {
   "cell_type": "code",
   "execution_count": 56,
   "metadata": {},
   "outputs": [
    {
     "name": "stdout",
     "output_type": "stream",
     "text": [
      "The Shape of Train Labels:  (48000,)\n",
      "The Shape of Valid Labels:  (12000,)\n"
     ]
    }
   ],
   "source": [
    "# Check Train, Valid Label's shape\n",
    "print(\"The Shape of Train Labels: \", train_labels.shape)\n",
    "print(\"The Shape of Valid Labels: \", valid_labels.shape)\n"
   ]
  },
  {
   "cell_type": "code",
   "execution_count": 57,
   "metadata": {},
   "outputs": [],
   "source": [
    "# Reshape image's size to check for ours\n",
    "train_images = train_images.reshape(train_images.shape[0], 28, 28)\n",
    "valid_images = valid_images.reshape(valid_images.shape[0], 28, 28)\n",
    "test_images = test_images.reshape(test_images.shape[0], 28, 28)"
   ]
  },
  {
   "cell_type": "code",
   "execution_count": 58,
   "metadata": {},
   "outputs": [
    {
     "name": "stdout",
     "output_type": "stream",
     "text": [
      "The Shape of Train Images: (48000, 28, 28)\n",
      "The Shape of Valid Images: (12000, 28, 28)\n",
      "The Shape of Test Images: (10000, 28, 28)\n"
     ]
    }
   ],
   "source": [
    "# Check Train, Valid, Test Image's Shape after reshape\n",
    "print(\"The Shape of Train Images:\", train_images.shape)\n",
    "print(\"The Shape of Valid Images:\", valid_images.shape)\n",
    "print(\"The Shape of Test Images:\", test_images.shape)"
   ]
  },
  {
   "cell_type": "code",
   "execution_count": 28,
   "metadata": {},
   "outputs": [
    {
     "data": {
      "image/png": "[encoded data removed]",
      "text/plain": [
       "<Figure size 432x288 with 1 Axes>"
      ]
     },
     "metadata": {
      "needs_background": "light"
     },
     "output_type": "display_data"
    },
    {
     "data": {
      "image/png": "[encoded data removed]",
      "text/plain": [
       "<Figure size 432x288 with 1 Axes>"
      ]
     },
     "metadata": {
      "needs_background": "light"
     },
     "output_type": "display_data"
    },
    {
     "data": {
      "image/png": "[encoded data removed]",
      "text/plain": [
       "<Figure size 432x288 with 1 Axes>"
      ]
     },
     "metadata": {
      "needs_background": "light"
     },
     "output_type": "display_data"
    },
    {
     "data": {
      "image/png": "[encoded data removed]",
      "text/plain": [
       "<Figure size 432x288 with 1 Axes>"
      ]
     },
     "metadata": {
      "needs_background": "light"
     },
     "output_type": "display_data"
    },
    {
     "data": {
      "image/png": "[encoded data removed]",
      "text/plain": [
       "<Figure size 432x288 with 1 Axes>"
      ]
     },
     "metadata": {
      "needs_background": "light"
     },
     "output_type": "display_data"
    }
   ],
   "source": [
    "# Visualize Train, Valid, Test's Images\n",
    "\n",
    "import matplotlib.pyplot as plt\n",
    "for idx in range(0, 5):\n",
    "    plt.imshow(train_images[idx], cmap = plt.get_cmap('gray'))\n",
    "    plt.title(train_labels[idx])\n",
    "    plt.show()\n"
   ]
  },
  {
   "cell_type": "code",
   "execution_count": 59,
   "metadata": {},
   "outputs": [
    {
     "data": {
      "image/png": "[encoded data removed]",
      "text/plain": [
       "<Figure size 432x288 with 1 Axes>"
      ]
     },
     "metadata": {
      "needs_background": "light"
     },
     "output_type": "display_data"
    },
    {
     "data": {
      "image/png": "[encoded data removed]",
      "text/plain": [
       "<Figure size 432x288 with 1 Axes>"
      ]
     },
     "metadata": {
      "needs_background": "light"
     },
     "output_type": "display_data"
    },
    {
     "data": {
      "image/png": "[encoded data removed]",
      "text/plain": [
       "<Figure size 432x288 with 1 Axes>"
      ]
     },
     "metadata": {
      "needs_background": "light"
     },
     "output_type": "display_data"
    },
    {
     "data": {
      "image/png": "[encoded data removed]",
      "text/plain": [
       "<Figure size 432x288 with 1 Axes>"
      ]
     },
     "metadata": {
      "needs_background": "light"
     },
     "output_type": "display_data"
    },
    {
     "data": {
      "image/png": "[encoded data removed]",
      "text/plain": [
       "<Figure size 432x288 with 1 Axes>"
      ]
     },
     "metadata": {
      "needs_background": "light"
     },
     "output_type": "display_data"
    }
   ],
   "source": [
    "for idx in range(0,5):\n",
    "    plt.imshow(valid_images[idx], cmap = plt.get_cmap('gray'))\n",
    "    plt.title(valid_labels[idx])\n",
    "    plt.show()"
   ]
  },
  {
   "cell_type": "code",
   "execution_count": 60,
   "metadata": {},
   "outputs": [
    {
     "data": {
      "image/png": "[encoded data removed]",
      "text/plain": [
       "<Figure size 432x288 with 1 Axes>"
      ]
     },
     "metadata": {
      "needs_background": "light"
     },
     "output_type": "display_data"
    },
    {
     "data": {
      "image/png": "[encoded data removed]",
      "text/plain": [
       "<Figure size 432x288 with 1 Axes>"
      ]
     },
     "metadata": {
      "needs_background": "light"
     },
     "output_type": "display_data"
    },
    {
     "data": {
      "image/png": "[encoded data removed]",
      "text/plain": [
       "<Figure size 432x288 with 1 Axes>"
      ]
     },
     "metadata": {
      "needs_background": "light"
     },
     "output_type": "display_data"
    },
    {
     "data": {
      "image/png": "[encoded data removed]",
      "text/plain": [
       "<Figure size 432x288 with 1 Axes>"
      ]
     },
     "metadata": {
      "needs_background": "light"
     },
     "output_type": "display_data"
    },
    {
     "data": {
      "image/png": "[encoded data removed]",
      "text/plain": [
       "<Figure size 432x288 with 1 Axes>"
      ]
     },
     "metadata": {
      "needs_background": "light"
     },
     "output_type": "display_data"
    }
   ],
   "source": [
    "for idx in range(0,5):\n",
    "    plt.imshow(test_images[idx], cmap = plt.get_cmap('gray'))\n",
    "    # plt.title(test_labels[idx])\n",
    "    plt.show()"
   ]
  },
  {
   "cell_type": "code",
   "execution_count": 61,
   "metadata": {},
   "outputs": [],
   "source": [
    "# Make Dataloader to feed on Multi Layer Perceptron Model \n",
    "\n",
    "import torch \n",
    "from torch.utils.data import TensorDataset, DataLoader \n",
    "\n",
    "train_images_tensor = torch.tensor(train_images)\n",
    "train_labels_tensor = torch.tensor(train_labels)\n",
    "train_tensor = TensorDataset(train_images_tensor, train_labels_tensor)\n",
    "train_loader = DataLoader(train_tensor, batch_size = 64, num_workers = 0, shuffle = True)\n",
    "\n",
    "valid_images_tensor = torch.tensor(valid_images)\n",
    "valid_labels_tensor = torch.tensor(valid_labels)\n",
    "valid_tensor = TensorDataset(valid_images_tensor, valid_labels_tensor)\n",
    "valid_loader = DataLoader(valid_tensor, batch_size = 64, num_workers = 0, shuffle = True)\n",
    "\n",
    "test_images_tensor = torch.tensor(test_images)"
   ]
  },
  {
   "cell_type": "code",
   "execution_count": 67,
   "metadata": {
    "scrolled": true
   },
   "outputs": [
    {
     "name": "stdout",
     "output_type": "stream",
     "text": [
      "Model:  CNN(\n",
      "  (conv1): Conv2d(1, 10, kernel_size=(5, 5), stride=(1, 1))\n",
      "  (conv2): Conv2d(10, 20, kernel_size=(5, 5), stride=(1, 1))\n",
      "  (fc1): Linear(in_features=320, out_features=50, bias=True)\n",
      "  (fc2): Linear(in_features=50, out_features=10, bias=True)\n",
      ")\n",
      "Device:  cuda\n"
     ]
    }
   ],
   "source": [
    "# Create Multi Layer Perceptron Model\n",
    "import torch.nn as nn\n",
    "import torch.nn.functional as F\n",
    "import torch.optim as optim\n",
    "\n",
    "class CNN(nn.Module):\n",
    "    def __init__(self):\n",
    "        super(CNN, self).__init__()\n",
    "        self.conv1 = nn.Conv2d(1, 10, kernel_size = 5)\n",
    "        self.conv2 = nn.Conv2d(10, 20, kernel_size = 5)\n",
    "        self.fc1 = nn.Linear(320, 50)\n",
    "        self.fc2 = nn.Linear(50, 10)\n",
    "\n",
    "    def forward(self, x):\n",
    "        x = x.view(-1, 1, 28, 28)\n",
    "        x = F.relu(F.max_pool2d(self.conv1(x), 2))\n",
    "        x = F.relu(F.max_pool2d(self.conv2(x), 2))\n",
    "        x = x.view(-1, 320)\n",
    "        x = F.relu(self.fc1(x))\n",
    "        x = self.fc2(x)\n",
    "        x = F.log_softmax(x)\n",
    "        return x\n",
    "\n",
    "USE_CUDA = torch.cuda.is_available()\n",
    "DEVICE = torch.device(\"cuda\" if USE_CUDA else \"cpu\")\n",
    "\n",
    "model = CNN().to(DEVICE)\n",
    "optimizer = optim.Adam(model.parameters(), lr = 0.001)\n",
    "\n",
    "print(\"Model: \", model)\n",
    "print(\"Device: \", DEVICE)"
   ]
  },
  {
   "cell_type": "code",
   "execution_count": 36,
   "metadata": {},
   "outputs": [],
   "source": [
    "# Definite Train & Evaluate \n",
    "\n",
    "def train(model, train_loader, optimizer):\n",
    "    model.train()\n",
    "    for batch_idx, (data, target) in enumerate(train_loader):\n",
    "        data, target = data.to(DEVICE), target.to(DEVICE)\n",
    "        optimizer.zero_grad()\n",
    "        output = model(data)\n",
    "        loss = F.cross_entropy(output, target)\n",
    "        loss.backward()\n",
    "        optimizer.step()\n",
    "        \n",
    "        if batch_idx % 100 == 0:\n",
    "            print(\"Train Epoch: {} [{}/{} ({:.0f}%)]\\t Loss: {:.06}%\".format(epoch, batch_idx * len(data), len(train_loader.dataset), 100. * batch_idx / len(train_loader), loss.item()))\n",
    "            \n",
    "def evaluate(model, valid_loader):\n",
    "    model.eval()\n",
    "    valid_loss = 0\n",
    "    correct = 0\n",
    "    \n",
    "    with torch.no_grad():\n",
    "        for data, target in valid_loader:\n",
    "            data, target = data.to(DEVICE), target.to(DEVICE)\n",
    "            output = model(data)\n",
    "            valid_loss += F.cross_entropy(output, target, reduction = \"sum\").item()\n",
    "            prediction = output.max(1, keepdim = True)[1]\n",
    "            correct += prediction.eq(target.view_as(prediction)).sum().item()\n",
    "            \n",
    "    valid_loss /= len(valid_loader.dataset)\n",
    "    valid_accuracy = 100. * correct / len(valid_loader.dataset)\n",
    "    return valid_loss, valid_accuracy \n"
   ]
  },
  {
   "cell_type": "code",
   "execution_count": 68,
   "metadata": {},
   "outputs": [
    {
     "name": "stderr",
     "output_type": "stream",
     "text": [
      "<ipython-input-67-2030b5a81c34>:21: UserWarning: Implicit dimension choice for log_softmax has been deprecated. Change the call to include dim=X as an argument.\n",
      "  x = F.log_softmax(x)\n"
     ]
    },
    {
     "name": "stdout",
     "output_type": "stream",
     "text": [
      "Train Epoch: 1 [0/48000 (0%)]\t Loss: 9.42368%\n",
      "Train Epoch: 1 [6400/48000 (13%)]\t Loss: 0.507214%\n",
      "Train Epoch: 1 [12800/48000 (27%)]\t Loss: 0.237433%\n",
      "Train Epoch: 1 [19200/48000 (40%)]\t Loss: 0.077129%\n",
      "Train Epoch: 1 [25600/48000 (53%)]\t Loss: 0.134507%\n",
      "Train Epoch: 1 [32000/48000 (67%)]\t Loss: 0.115953%\n",
      "Train Epoch: 1 [38400/48000 (80%)]\t Loss: 0.0515546%\n",
      "Train Epoch: 1 [44800/48000 (93%)]\t Loss: 0.147707%\n",
      "[Epoch: 1], \t Validation Loss: 0.09276, \t Validation Accuracy: 97.03%\n",
      "\n",
      "Train Epoch: 2 [0/48000 (0%)]\t Loss: 0.0138245%\n",
      "Train Epoch: 2 [6400/48000 (13%)]\t Loss: 0.0207729%\n",
      "Train Epoch: 2 [12800/48000 (27%)]\t Loss: 0.0583666%\n",
      "Train Epoch: 2 [19200/48000 (40%)]\t Loss: 0.0544339%\n",
      "Train Epoch: 2 [25600/48000 (53%)]\t Loss: 0.0669032%\n",
      "Train Epoch: 2 [32000/48000 (67%)]\t Loss: 0.00536544%\n",
      "Train Epoch: 2 [38400/48000 (80%)]\t Loss: 0.10918%\n",
      "Train Epoch: 2 [44800/48000 (93%)]\t Loss: 0.0537394%\n",
      "[Epoch: 2], \t Validation Loss: 0.07977, \t Validation Accuracy: 97.53%\n",
      "\n",
      "Train Epoch: 3 [0/48000 (0%)]\t Loss: 0.102085%\n",
      "Train Epoch: 3 [6400/48000 (13%)]\t Loss: 0.0116997%\n",
      "Train Epoch: 3 [12800/48000 (27%)]\t Loss: 0.0434677%\n",
      "Train Epoch: 3 [19200/48000 (40%)]\t Loss: 0.0182412%\n",
      "Train Epoch: 3 [25600/48000 (53%)]\t Loss: 0.0341373%\n",
      "Train Epoch: 3 [32000/48000 (67%)]\t Loss: 0.0228314%\n",
      "Train Epoch: 3 [38400/48000 (80%)]\t Loss: 0.0154044%\n",
      "Train Epoch: 3 [44800/48000 (93%)]\t Loss: 0.0194249%\n",
      "[Epoch: 3], \t Validation Loss: 0.07237, \t Validation Accuracy: 97.87%\n",
      "\n",
      "Train Epoch: 4 [0/48000 (0%)]\t Loss: 0.00789303%\n",
      "Train Epoch: 4 [6400/48000 (13%)]\t Loss: 0.0119844%\n",
      "Train Epoch: 4 [12800/48000 (27%)]\t Loss: 0.0614494%\n",
      "Train Epoch: 4 [19200/48000 (40%)]\t Loss: 0.00294558%\n",
      "Train Epoch: 4 [25600/48000 (53%)]\t Loss: 0.0167738%\n",
      "Train Epoch: 4 [32000/48000 (67%)]\t Loss: 0.0086623%\n",
      "Train Epoch: 4 [38400/48000 (80%)]\t Loss: 0.138119%\n",
      "Train Epoch: 4 [44800/48000 (93%)]\t Loss: 0.0612435%\n",
      "[Epoch: 4], \t Validation Loss: 0.05257, \t Validation Accuracy: 98.38%\n",
      "\n",
      "Train Epoch: 5 [0/48000 (0%)]\t Loss: 0.0343508%\n",
      "Train Epoch: 5 [6400/48000 (13%)]\t Loss: 0.0118741%\n",
      "Train Epoch: 5 [12800/48000 (27%)]\t Loss: 0.0163913%\n",
      "Train Epoch: 5 [19200/48000 (40%)]\t Loss: 0.0616018%\n",
      "Train Epoch: 5 [25600/48000 (53%)]\t Loss: 0.000498709%\n",
      "Train Epoch: 5 [32000/48000 (67%)]\t Loss: 0.00552728%\n",
      "Train Epoch: 5 [38400/48000 (80%)]\t Loss: 0.0449643%\n",
      "Train Epoch: 5 [44800/48000 (93%)]\t Loss: 0.166841%\n",
      "[Epoch: 5], \t Validation Loss: 0.06798, \t Validation Accuracy: 98.11%\n",
      "\n",
      "Train Epoch: 6 [0/48000 (0%)]\t Loss: 0.0177614%\n",
      "Train Epoch: 6 [6400/48000 (13%)]\t Loss: 0.000848537%\n",
      "Train Epoch: 6 [12800/48000 (27%)]\t Loss: 0.000425858%\n",
      "Train Epoch: 6 [19200/48000 (40%)]\t Loss: 0.0623668%\n",
      "Train Epoch: 6 [25600/48000 (53%)]\t Loss: 0.0182256%\n",
      "Train Epoch: 6 [32000/48000 (67%)]\t Loss: 0.158572%\n",
      "Train Epoch: 6 [38400/48000 (80%)]\t Loss: 0.00232572%\n",
      "Train Epoch: 6 [44800/48000 (93%)]\t Loss: 0.027517%\n",
      "[Epoch: 6], \t Validation Loss: 0.06814, \t Validation Accuracy: 98.14%\n",
      "\n",
      "Train Epoch: 7 [0/48000 (0%)]\t Loss: 0.0891804%\n",
      "Train Epoch: 7 [6400/48000 (13%)]\t Loss: 0.000492464%\n",
      "Train Epoch: 7 [12800/48000 (27%)]\t Loss: 0.082473%\n",
      "Train Epoch: 7 [19200/48000 (40%)]\t Loss: 0.0344103%\n",
      "Train Epoch: 7 [25600/48000 (53%)]\t Loss: 0.0187582%\n",
      "Train Epoch: 7 [32000/48000 (67%)]\t Loss: 0.0434501%\n",
      "Train Epoch: 7 [38400/48000 (80%)]\t Loss: 0.050552%\n",
      "Train Epoch: 7 [44800/48000 (93%)]\t Loss: 0.00682549%\n",
      "[Epoch: 7], \t Validation Loss: 0.06254, \t Validation Accuracy: 98.41%\n",
      "\n",
      "Train Epoch: 8 [0/48000 (0%)]\t Loss: 0.00510338%\n",
      "Train Epoch: 8 [6400/48000 (13%)]\t Loss: 0.0107763%\n",
      "Train Epoch: 8 [12800/48000 (27%)]\t Loss: 0.0206166%\n",
      "Train Epoch: 8 [19200/48000 (40%)]\t Loss: 0.190626%\n",
      "Train Epoch: 8 [25600/48000 (53%)]\t Loss: 0.0348877%\n",
      "Train Epoch: 8 [32000/48000 (67%)]\t Loss: 0.0380729%\n",
      "Train Epoch: 8 [38400/48000 (80%)]\t Loss: 0.125176%\n",
      "Train Epoch: 8 [44800/48000 (93%)]\t Loss: 0.0347451%\n",
      "[Epoch: 8], \t Validation Loss: 0.07188, \t Validation Accuracy: 98.21%\n",
      "\n",
      "Train Epoch: 9 [0/48000 (0%)]\t Loss: 0.00700227%\n",
      "Train Epoch: 9 [6400/48000 (13%)]\t Loss: 0.00234464%\n",
      "Train Epoch: 9 [12800/48000 (27%)]\t Loss: 0.00547702%\n",
      "Train Epoch: 9 [19200/48000 (40%)]\t Loss: 0.0407317%\n",
      "Train Epoch: 9 [25600/48000 (53%)]\t Loss: 0.0464746%\n",
      "Train Epoch: 9 [32000/48000 (67%)]\t Loss: 0.00111046%\n",
      "Train Epoch: 9 [38400/48000 (80%)]\t Loss: 0.0360354%\n",
      "Train Epoch: 9 [44800/48000 (93%)]\t Loss: 0.00410462%\n",
      "[Epoch: 9], \t Validation Loss: 0.06275, \t Validation Accuracy: 98.44%\n",
      "\n",
      "Train Epoch: 10 [0/48000 (0%)]\t Loss: 0.00200642%\n",
      "Train Epoch: 10 [6400/48000 (13%)]\t Loss: 0.000278931%\n",
      "Train Epoch: 10 [12800/48000 (27%)]\t Loss: 0.00175472%\n",
      "Train Epoch: 10 [19200/48000 (40%)]\t Loss: 0.00163697%\n",
      "Train Epoch: 10 [25600/48000 (53%)]\t Loss: 0.00184005%\n",
      "Train Epoch: 10 [32000/48000 (67%)]\t Loss: 0.00821448%\n",
      "Train Epoch: 10 [38400/48000 (80%)]\t Loss: 0.00234211%\n",
      "Train Epoch: 10 [44800/48000 (93%)]\t Loss: 0.0330197%\n",
      "[Epoch: 10], \t Validation Loss: 0.09279, \t Validation Accuracy: 98.06%\n",
      "\n"
     ]
    }
   ],
   "source": [
    "''' Training'''\n",
    "\n",
    "EPOCHS = 10\n",
    "for epoch in range(1, EPOCHS + 1):\n",
    "    train(model, train_loader, optimizer)\n",
    "    valid_loss, valid_accuracy = evaluate(model, valid_loader)\n",
    "    print(\"[Epoch: {}], \\t Validation Loss: {:.4}, \\t Validation Accuracy: {:.2f}%\\n\".format(epoch, valid_loss, valid_accuracy))\n"
   ]
  },
  {
   "cell_type": "code",
   "execution_count": 39,
   "metadata": {},
   "outputs": [],
   "source": [
    "# Predict Test Dataset \n",
    "\n",
    "def testset_prediction(model, test_images_tensor):\n",
    "    model.eval()\n",
    "    result = []\n",
    "    with torch.no_grad():\n",
    "        for data in test_images_tensor:\n",
    "            data = data.to(DEVICE)\n",
    "            output = model(data)\n",
    "            prediction = output.max(1, keepdim = True)[1]\n",
    "            result.append(prediction.tolist())\n",
    "    return result\n"
   ]
  },
  {
   "cell_type": "code",
   "execution_count": 40,
   "metadata": {},
   "outputs": [
    {
     "data": {
      "text/plain": [
       "[[[7]], [[2]], [[1]], [[0]], [[4]]]"
      ]
     },
     "execution_count": 40,
     "metadata": {},
     "output_type": "execute_result"
    }
   ],
   "source": [
    "test_predict_result = testset_prediction(model, test_images_tensor)\n",
    "test_predict_result[:5]\n"
   ]
  },
  {
   "cell_type": "code",
   "execution_count": 69,
   "metadata": {},
   "outputs": [
    {
     "data": {
      "text/plain": [
       "[(1, 1162),\n",
       " (2, 1034),\n",
       " (4, 1029),\n",
       " (3, 1015),\n",
       " (8, 1002),\n",
       " (0, 993),\n",
       " (9, 988),\n",
       " (6, 963),\n",
       " (7, 950),\n",
       " (5, 864)]"
      ]
     },
     "execution_count": 69,
     "metadata": {},
     "output_type": "execute_result"
    }
   ],
   "source": [
    "import numpy as np\n",
    "from collections import Counter\n",
    "Counter(np.squeeze(test_predict_result)).most_common()"
   ]
  },
  {
   "cell_type": "code",
   "execution_count": 44,
   "metadata": {},
   "outputs": [
    {
     "data": {
      "image/png": "[encoded data removed]",
      "text/plain": [
       "<Figure size 432x288 with 1 Axes>"
      ]
     },
     "metadata": {
      "needs_background": "light"
     },
     "output_type": "display_data"
    },
    {
     "data": {
      "image/png": "[encoded data removed]",
      "text/plain": [
       "<Figure size 432x288 with 1 Axes>"
      ]
     },
     "metadata": {
      "needs_background": "light"
     },
     "output_type": "display_data"
    },
    {
     "data": {
      "image/png": "[encoded data removed]",
      "text/plain": [
       "<Figure size 432x288 with 1 Axes>"
      ]
     },
     "metadata": {
      "needs_background": "light"
     },
     "output_type": "display_data"
    },
    {
     "data": {
      "image/png": "[encoded data removed]",
      "text/plain": [
       "<Figure size 432x288 with 1 Axes>"
      ]
     },
     "metadata": {
      "needs_background": "light"
     },
     "output_type": "display_data"
    },
    {
     "data": {
      "image/png": "[encoded data removed]",
      "text/plain": [
       "<Figure size 432x288 with 1 Axes>"
      ]
     },
     "metadata": {
      "needs_background": "light"
     },
     "output_type": "display_data"
    },
    {
     "data": {
      "image/png": "[encoded data removed]",
      "text/plain": [
       "<Figure size 432x288 with 1 Axes>"
      ]
     },
     "metadata": {
      "needs_background": "light"
     },
     "output_type": "display_data"
    },
    {
     "data": {
      "image/png": "[encoded data removed]",
      "text/plain": [
       "<Figure size 432x288 with 1 Axes>"
      ]
     },
     "metadata": {
      "needs_background": "light"
     },
     "output_type": "display_data"
    },
    {
     "data": {
      "image/png": "[encoded data removed]",
      "text/plain": [
       "<Figure size 432x288 with 1 Axes>"
      ]
     },
     "metadata": {
      "needs_background": "light"
     },
     "output_type": "display_data"
    },
    {
     "data": {
      "image/png": "[encoded data removed]",
      "text/plain": [
       "<Figure size 432x288 with 1 Axes>"
      ]
     },
     "metadata": {
      "needs_background": "light"
     },
     "output_type": "display_data"
    },
    {
     "data": {
      "image/png": "[encoded data removed]",
      "text/plain": [
       "<Figure size 432x288 with 1 Axes>"
      ]
     },
     "metadata": {
      "needs_background": "light"
     },
     "output_type": "display_data"
    }
   ],
   "source": [
    "for idx in range(0, 10):\n",
    "    plt.imshow(test_images[idx], cmap = plt.get_cmap('gray'))\n",
    "    plt.title(\"Predict: \" + str(test_predict_result[idx]))\n",
    "    plt.show()"
   ]
  },
  {
   "cell_type": "code",
   "execution_count": null,
   "metadata": {},
   "outputs": [],
   "source": []
  }
 ],
 "metadata": {
  "kernelspec": {
   "display_name": "Python 3",
   "language": "python",
   "name": "python3"
  },
  "language_info": {
   "codemirror_mode": {
    "name": "ipython",
    "version": 3
   },
   "file_extension": ".py",
   "mimetype": "text/x-python",
   "name": "python",
   "nbconvert_exporter": "python",
   "pygments_lexer": "ipython3",
   "version": "3.8.3"
  }
 },
 "nbformat": 4,
 "nbformat_minor": 4
}
